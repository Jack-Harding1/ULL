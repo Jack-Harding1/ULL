{
 "cells": [
  {
   "cell_type": "code",
   "execution_count": 1,
   "metadata": {},
   "outputs": [],
   "source": [
    "import datetime\n",
    "import math\n",
    "import os\n",
    "import pickle\n",
    "import random\n",
    "\n",
    "import matplotlib.pyplot as plt\n",
    "import numpy as np\n",
    "\n",
    "import torch\n",
    "import torch.nn as nn\n",
    "import torch.nn.functional as F\n",
    "import torch.optim as optim\n",
    "import torchvision"
   ]
  },
  {
   "cell_type": "code",
   "execution_count": 2,
   "metadata": {},
   "outputs": [],
   "source": [
    "def read_in_data(text_file):\n",
    "\n",
    "    data_output = []\n",
    "    with open(text_file, \"r\") as file1:\n",
    "        data_list = file1.readlines()\n",
    "    for line in data_list:\n",
    "        token_list = line.split()\n",
    "        data_output.append(token_list)\n",
    "    \n",
    "    return data_output"
   ]
  },
  {
   "cell_type": "code",
   "execution_count": 3,
   "metadata": {},
   "outputs": [],
   "source": [
    "training_data = read_in_data(\"../data/english-french_small/dev.en\")"
   ]
  },
  {
   "cell_type": "code",
   "execution_count": 4,
   "metadata": {},
   "outputs": [],
   "source": [
    "def create_vocabulary(training_set):\n",
    "\n",
    "    vocabulary = []\n",
    "    for sentence in training_set:\n",
    "        for word in sentence:\n",
    "            if word not in vocabulary:\n",
    "                vocabulary.append(word)\n",
    "                \n",
    "    w2i = dict()\n",
    "    i2w = dict()\n",
    "    for idx, word in enumerate(vocabulary):\n",
    "        i2w[idx] = word\n",
    "        w2i[word] = idx\n",
    "    \n",
    "    return w2i, i2w"
   ]
  },
  {
   "cell_type": "code",
   "execution_count": 5,
   "metadata": {},
   "outputs": [],
   "source": [
    "w2i, i2w = create_vocabulary(training_data)"
   ]
  },
  {
   "cell_type": "code",
   "execution_count": 6,
   "metadata": {},
   "outputs": [
    {
     "name": "stdout",
     "output_type": "stream",
     "text": [
      "322\n"
     ]
    }
   ],
   "source": [
    "print(len(w2i.keys()))"
   ]
  },
  {
   "cell_type": "code",
   "execution_count": 7,
   "metadata": {},
   "outputs": [
    {
     "name": "stdout",
     "output_type": "stream",
     "text": [
      "[['each', 'of', 'them', 'is', 'very', 'complex', ',', 'but', 'the', 'link', 'between', 'the', 'two', 'is', 'even', 'more', 'complex', 'which', 'makes', 'the', 'whole', 'situation', 'for', 'most', 'people', 'understandably', 'confusing', '.'], ['the', 'commissionners', 'went', 'on', ':'], ['they', 'are', 'constrained', 'by', 'limits', 'which', 'are', 'imposed', 'in', 'order', 'to', 'ensure', 'that', 'the', 'freedom', 'of', 'one', 'person', 'does', 'not', 'violate', 'that', 'of', 'another', '.'], ['it', 'made', 'the', 'buying', 'and', 'selling', 'of', 'sex', 'on', 'our', 'streets', 'legal', 'for', 'all', 'intents', 'and', 'purposes', '.'], ['the', 'way', 'in', 'which', 'Bill', 'C', '-', '49', 'has', 'been', 'presented', 'today', 'gives', 'us', 'the', 'feeling', 'that', 'only', 'the', 'prostitutes', 'are', 'punished', 'and', 'stigmatized', '.']]\n"
     ]
    }
   ],
   "source": [
    "print(training_data[:5])"
   ]
  },
  {
   "cell_type": "code",
   "execution_count": 13,
   "metadata": {},
   "outputs": [],
   "source": [
    "def make_input_batches(training_set, batch_size):\n",
    "\n",
    "    sentences = training_set\n",
    "    random.shuffle(sentences)\n",
    "    \n",
    "    new_data = []\n",
    "    num_samples = len(sentences)\n",
    "    for idx in range(num_samples // batch_size):\n",
    "        batch = sentences[(idx)*batch_size : (idx+1)*batch_size]\n",
    "        new_data.append(batch)\n",
    "    \n",
    "    return np.array(new_data)"
   ]
  },
  {
   "cell_type": "code",
   "execution_count": 14,
   "metadata": {},
   "outputs": [],
   "source": [
    "BATCH_SIZE = 10\n",
    "input_data = make_input_batches(training_data, BATCH_SIZE)"
   ]
  },
  {
   "cell_type": "code",
   "execution_count": 15,
   "metadata": {},
   "outputs": [
    {
     "name": "stdout",
     "output_type": "stream",
     "text": [
      "[list(['it', 'would', 'have', 'been', 'easy', 'to', 'say', 'that', 'these', 'sanctions', 'have', 'to', 'be', 'followed', 'rather', 'than', 'making', 'them', 'voluntary', '.'])\n",
      " list(['I', 'never', 'met', 'a', 'street', 'hooker', 'who', 'wanted', 'to', 'be', 'there', '.'])\n",
      " list(['I', 'think', 'that', 'is', 'putting', 'it', 'in', 'a', 'very', 'whole', 'context', 'as', 'to', 'what', 'the', 'principles', 'are', 'and', 'what', 'our', 'responsibilities', 'ought', 'to', 'be', '.'])\n",
      " list(['we', 'should', 'count', 'our', 'blessings', 'that', 'we', 'do', 'have', 'a', 'very', 'safe', 'country', '.'])\n",
      " list(['if', 'they', 'could', 'not', 'pay', 'their', 'fine', 'and', 'no', 'one', 'would', 'raise', 'bail', 'for', 'them', 'they', 'simply', 'stayed', 'in', '.'])\n",
      " list(['what', 'will', 'be', 'the', 'cost', 'of', 'this', 'particular', 'ruling', 'in', 'terms', 'of', 'lost', 'tax', 'revenue', 'as', 'it', 'is', 'applied', 'to', 'other', 'corporations', '?'])\n",
      " list(['what', 'does', 'it', 'mean', 'for', 'a', 'family', 'earning', '$', '35,000', 'where', 'the', 'husband', 'and', 'wife', 'both', 'work', '?'])\n",
      " list(['let', 'me', 'conclude', '.'])\n",
      " list(['however', ',', 'there', 'is', 'no', 'action', 'forthcoming', '.'])\n",
      " list(['under', 'this', 'Bill', 'it', 'would', 'be', 'unlawful', 'for', 'a', 'passenger', 'in', 'a', 'taxi', 'to', 'ask', 'a', 'driver', 'how', 'to', 'contact', 'a', 'prostitute', '.'])]\n"
     ]
    }
   ],
   "source": [
    "print(input_data[0])"
   ]
  },
  {
   "cell_type": "code",
   "execution_count": null,
   "metadata": {},
   "outputs": [],
   "source": [
    "class first_linearity(nn.Module):\n",
    "    def __init__(self, embedding_dimension, vocabulary_size):\n",
    "        super(Skipgram_Net, self).__init__()\n",
    "        self.fc1 = nn.Linear(vocabulary_size, embedding_dimension)\n",
    "    \n",
    "    def forward(self, x):\n",
    "        return self.fc1(x)"
   ]
  },
  {
   "cell_type": "code",
   "execution_count": null,
   "metadata": {},
   "outputs": [],
   "source": [
    "\n",
    "for sentence in training_data:\n",
    "    for word in sentence\n"
   ]
  }
 ],
 "metadata": {
  "kernelspec": {
   "display_name": "Python 3",
   "language": "python",
   "name": "python3"
  },
  "language_info": {
   "codemirror_mode": {
    "name": "ipython",
    "version": 3
   },
   "file_extension": ".py",
   "mimetype": "text/x-python",
   "name": "python",
   "nbconvert_exporter": "python",
   "pygments_lexer": "ipython3",
   "version": "3.6.4"
  }
 },
 "nbformat": 4,
 "nbformat_minor": 2
}
