{
 "cells": [
  {
   "cell_type": "code",
   "execution_count": 1,
   "metadata": {},
   "outputs": [],
   "source": [
    "import datetime\n",
    "import math\n",
    "import os\n",
    "import pickle\n",
    "import random\n",
    "\n",
    "import matplotlib.pyplot as plt\n",
    "import numpy as np\n",
    "\n",
    "import torch\n",
    "import torch.nn as nn\n",
    "import torch.nn.functional as F\n",
    "import torch.optim as optim\n",
    "import torchvision"
   ]
  },
  {
   "cell_type": "code",
   "execution_count": 2,
   "metadata": {},
   "outputs": [],
   "source": [
    "def read_in_data(text_file):\n",
    "\n",
    "    data_output = []\n",
    "    with open(text_file, \"r\") as file1:\n",
    "        data_list = file1.readlines()\n",
    "    for line in data_list:\n",
    "        token_list = line.split()\n",
    "        data_output.append(token_list)\n",
    "    \n",
    "    return data_output"
   ]
  },
  {
   "cell_type": "code",
   "execution_count": 33,
   "metadata": {},
   "outputs": [],
   "source": [
    "training_data = read_in_data(\"../data/english-french_small/dev.en\")\n",
    "\n",
    "training_data = training_data[:5]"
   ]
  },
  {
   "cell_type": "code",
   "execution_count": 34,
   "metadata": {},
   "outputs": [],
   "source": [
    "def create_vocabulary(training_set):\n",
    "\n",
    "    vocabulary = []\n",
    "    for sentence in training_set:\n",
    "        for word in sentence:\n",
    "            if word not in vocabulary:\n",
    "                vocabulary.append(word)\n",
    "                \n",
    "    w2i = dict()\n",
    "    i2w = dict()\n",
    "    for idx, word in enumerate(vocabulary):\n",
    "        i2w[idx] = word\n",
    "        w2i[word] = idx\n",
    "    \n",
    "    return w2i, i2w"
   ]
  },
  {
   "cell_type": "code",
   "execution_count": 35,
   "metadata": {},
   "outputs": [],
   "source": [
    "w2i, i2w = create_vocabulary(training_data)\n",
    "V = len(w2i.keys())"
   ]
  },
  {
   "cell_type": "code",
   "execution_count": 36,
   "metadata": {},
   "outputs": [
    {
     "name": "stdout",
     "output_type": "stream",
     "text": [
      "74\n"
     ]
    }
   ],
   "source": [
    "print(len(w2i.keys()))"
   ]
  },
  {
   "cell_type": "code",
   "execution_count": 37,
   "metadata": {},
   "outputs": [],
   "source": [
    "def generate_skipgram(sentence, context_window_size):\n",
    "\n",
    "    skipgram_array = []\n",
    "    for idx, word in enumerate(sentence):\n",
    "        context_set = []\n",
    "        window_size = context_window_size\n",
    "        for index in range(max(idx - window_size, 0), min(len(sentence), idx + window_size + 1)):\n",
    "            if index != idx:\n",
    "                context_set.append([word, sentence[index]])\n",
    "        skipgram_array.append(context_set)\n",
    "\n",
    "    return skipgram_array"
   ]
  },
  {
   "cell_type": "code",
   "execution_count": 38,
   "metadata": {},
   "outputs": [],
   "source": [
    "WINDOW_SIZE = 2\n",
    "# Training data :\n",
    "context_data = [generate_skipgram(sentence, WINDOW_SIZE) for sentence in training_data]"
   ]
  },
  {
   "cell_type": "code",
   "execution_count": 39,
   "metadata": {},
   "outputs": [
    {
     "name": "stdout",
     "output_type": "stream",
     "text": [
      "28\n",
      "28\n",
      "['each', 'of', 'them', 'is', 'very', 'complex', ',', 'but', 'the', 'link', 'between', 'the', 'two', 'is', 'even', 'more', 'complex', 'which', 'makes', 'the', 'whole', 'situation', 'for', 'most', 'people', 'understandably', 'confusing', '.']\n",
      "======\n",
      "[[['each', 'of'], ['each', 'them']], [['of', 'each'], ['of', 'them'], ['of', 'is']], [['them', 'each'], ['them', 'of'], ['them', 'is'], ['them', 'very']], [['is', 'of'], ['is', 'them'], ['is', 'very'], ['is', 'complex']], [['very', 'them'], ['very', 'is'], ['very', 'complex'], ['very', ',']], [['complex', 'is'], ['complex', 'very'], ['complex', ','], ['complex', 'but']], [[',', 'very'], [',', 'complex'], [',', 'but'], [',', 'the']], [['but', 'complex'], ['but', ','], ['but', 'the'], ['but', 'link']], [['the', ','], ['the', 'but'], ['the', 'link'], ['the', 'between']], [['link', 'but'], ['link', 'the'], ['link', 'between'], ['link', 'the']], [['between', 'the'], ['between', 'link'], ['between', 'the'], ['between', 'two']], [['the', 'link'], ['the', 'between'], ['the', 'two'], ['the', 'is']], [['two', 'between'], ['two', 'the'], ['two', 'is'], ['two', 'even']], [['is', 'the'], ['is', 'two'], ['is', 'even'], ['is', 'more']], [['even', 'two'], ['even', 'is'], ['even', 'more'], ['even', 'complex']], [['more', 'is'], ['more', 'even'], ['more', 'complex'], ['more', 'which']], [['complex', 'even'], ['complex', 'more'], ['complex', 'which'], ['complex', 'makes']], [['which', 'more'], ['which', 'complex'], ['which', 'makes'], ['which', 'the']], [['makes', 'complex'], ['makes', 'which'], ['makes', 'the'], ['makes', 'whole']], [['the', 'which'], ['the', 'makes'], ['the', 'whole'], ['the', 'situation']], [['whole', 'makes'], ['whole', 'the'], ['whole', 'situation'], ['whole', 'for']], [['situation', 'the'], ['situation', 'whole'], ['situation', 'for'], ['situation', 'most']], [['for', 'whole'], ['for', 'situation'], ['for', 'most'], ['for', 'people']], [['most', 'situation'], ['most', 'for'], ['most', 'people'], ['most', 'understandably']], [['people', 'for'], ['people', 'most'], ['people', 'understandably'], ['people', 'confusing']], [['understandably', 'most'], ['understandably', 'people'], ['understandably', 'confusing'], ['understandably', '.']], [['confusing', 'people'], ['confusing', 'understandably'], ['confusing', '.']], [['.', 'understandably'], ['.', 'confusing']]]\n"
     ]
    }
   ],
   "source": [
    "# flat_list = []\n",
    "\n",
    "\n",
    "# for sublist in context_data:\n",
    "#     for item_1 in sublist:\n",
    "#         for item_2\n",
    "#         flat_list.append(item)\n",
    "        \n",
    "    \n",
    "\n",
    "print(len(context_data[0]))\n",
    "print(len(training_data[0]))\n",
    "\n",
    "\n",
    "print(training_data[0])\n",
    "print(\"======\")\n",
    "print(context_data[0])\n"
   ]
  },
  {
   "cell_type": "code",
   "execution_count": 10,
   "metadata": {},
   "outputs": [],
   "source": [
    "def make_input_batches(training_set, batch_size):\n",
    "\n",
    "    sentences = training_set\n",
    "    random.shuffle(sentences)\n",
    "    \n",
    "    new_data = []\n",
    "    num_samples = len(sentences)\n",
    "    for idx in range(num_samples // batch_size):\n",
    "        batch = sentences[(idx)*batch_size : (idx+1)*batch_size]\n",
    "        new_data.append(batch)\n",
    "    \n",
    "    return np.array(new_data)"
   ]
  },
  {
   "cell_type": "code",
   "execution_count": 57,
   "metadata": {},
   "outputs": [],
   "source": [
    "def get_one_hot_vector(word, vocab_size=V):\n",
    "    one_hot = torch.zeros(vocab_size)\n",
    "    one_hot[w2i[word]] = 1.0\n",
    "\n",
    "    return one_hot"
   ]
  },
  {
   "cell_type": "code",
   "execution_count": 11,
   "metadata": {},
   "outputs": [],
   "source": [
    "BATCH_SIZE = 10\n",
    "input_data = make_input_batches(training_data, BATCH_SIZE)"
   ]
  },
  {
   "cell_type": "code",
   "execution_count": 46,
   "metadata": {},
   "outputs": [],
   "source": [
    "class linearity(nn.Module):\n",
    "    def __init__(self, embedding_dimension, vocabulary_size):\n",
    "        super(linearity, self).__init__()\n",
    "        self.fc1 = nn.Linear(vocabulary_size, embedding_dimension)\n",
    "    \n",
    "    def forward(self, x):\n",
    "        return self.fc1(x)"
   ]
  },
  {
   "cell_type": "code",
   "execution_count": 73,
   "metadata": {},
   "outputs": [
    {
     "name": "stdout",
     "output_type": "stream",
     "text": [
      "tensor([ 0.2424,  0.3701])\n",
      "tensor([[ 1.,  1.]])\n",
      "tensor([[ 0.2424,  0.3701]])\n"
     ]
    }
   ],
   "source": [
    "epsilon1 = torch.distributions.multivariate_normal.MultivariateNormal(\n",
    "torch.zeros(2),\n",
    "torch.eye(2)\n",
    ").sample()\n",
    "\n",
    "\n",
    "epsilon2 = torch.ones(1,2)\n",
    "\n",
    "print(epsilon1)\n",
    "print(epsilon2)\n",
    "# print(epsilon1.mul(epsilon2))\n",
    "print(epsilon1 * epsilon2)"
   ]
  },
  {
   "cell_type": "code",
   "execution_count": 88,
   "metadata": {},
   "outputs": [],
   "source": [
    "class BSG_Net(nn.Module):\n",
    "\n",
    "    def __init__(self, vocabulary_size, embedding_dimension=20):\n",
    "\n",
    "        super(BSG_Net, self).__init__()\n",
    "\n",
    "        self.fc1 = nn.Linear(vocabulary_size, embedding_dimension)\n",
    "        self.fc2 = nn.Linear(embedding_dimension * 2, embedding_dimension * 2)\n",
    "        self.fc3 = nn.Linear(embedding_dimension * 2, embedding_dimension)\n",
    "        self.fc4 = nn.Linear(embedding_dimension * 2, embedding_dimension)\n",
    "\n",
    "        self.embedding_dimension = embedding_dimension\n",
    "\n",
    "        self.re1 = nn.Linear(embedding_dimension, vocabulary_size)\n",
    "\n",
    "\n",
    "    def forward(self, x):\n",
    "\n",
    "        context_representation = torch.zeros(self.embedding_dimension * 2)\n",
    "\n",
    "        for pair in x:\n",
    "            center_word = self.fc1(get_one_hot_vector(pair[0]))\n",
    "            context_word = self.fc1(get_one_hot_vector(pair[1]))\n",
    "\n",
    "            concatenated = torch.cat([center_word, context_word], dim=0)\n",
    "            concatenated = F.relu(self.fc2(concatenated))\n",
    "            context_representation += concatenated\n",
    "\n",
    "        mu = self.fc3(context_representation)\n",
    "        sigma = F.softplus(self.fc4(context_representation))\n",
    "\n",
    "        epsilon = torch.distributions.multivariate_normal.MultivariateNormal(torch.zeros(self.embedding_dimension), torch.eye(self.embedding_dimension)).sample()\n",
    "\n",
    "        z = mu + epsilon * sigma\n",
    "\n",
    "        output = F.softmax(self.re1(z), dim=0)\n",
    "    \n",
    "        return output, mu, sigma\n"
   ]
  },
  {
   "cell_type": "code",
   "execution_count": 89,
   "metadata": {},
   "outputs": [
    {
     "name": "stdout",
     "output_type": "stream",
     "text": [
      "(tensor(1.00000e-02 *\n",
      "       [ 2.3372,  0.8322,  0.6292,  1.7487,  0.8757,  1.5447,  1.3844,\n",
      "         1.7886,  0.5361,  1.6353,  3.1622,  0.6323,  1.9057,  2.5837,\n",
      "         1.1526,  0.6768,  1.4584,  1.2509,  1.0355,  2.1900,  0.6910,\n",
      "         0.7611,  1.2955,  1.2102,  2.6714,  2.1262,  0.6125,  0.9043,\n",
      "         0.9463,  0.8904,  1.4939,  1.1081,  1.1373,  0.5659,  0.6063,\n",
      "         2.2028,  1.1779,  0.9723,  1.0147,  3.9599,  2.1676,  1.7888,\n",
      "         1.3008,  0.6819,  2.1627,  0.9816,  1.2672,  3.3311,  1.3914,\n",
      "         0.6511,  0.7149,  1.4801,  1.9497,  1.0113,  0.9677,  0.7966,\n",
      "         1.5462,  1.0199,  1.4093,  0.5986,  2.0467,  0.9312,  0.6401,\n",
      "         0.5863,  1.7831,  0.8144,  0.8820,  0.5907,  1.5452,  0.8565,\n",
      "         3.1911,  1.1057,  0.8524,  1.2479]), tensor([ 0.1090,  0.0958, -0.2351, -0.2278, -0.2172,  0.0290, -0.2035,\n",
      "        -0.1593, -0.2088, -0.0719, -0.1707, -0.1486, -0.2703, -0.0294,\n",
      "         0.0143, -0.1398, -0.1037,  0.2416,  0.0019,  0.2682]), tensor([ 0.5642,  0.6143,  0.6996,  0.8272,  0.6681,  0.7192,  0.6336,\n",
      "         0.6985,  0.6566,  0.7526,  0.6098,  0.6712,  0.6062,  0.8477,\n",
      "         0.7121,  0.8253,  0.6594,  0.6582,  0.6280,  0.7604]))\n"
     ]
    }
   ],
   "source": [
    "EMBEDDING_DIMENSION = 20\n",
    "\n",
    "model = BSG_Net(V, EMBEDDING_DIMENSION)\n",
    "X_data = []\n",
    "\n",
    "for sentence in context_data:\n",
    "    for context_set in sentence:\n",
    "        print(model(context_set))\n",
    "        break\n",
    "    break\n",
    "    \n",
    "    \n",
    "    \n",
    "#     for context_set in sentence:\n",
    "#         to_add = []\n",
    "#         for pair in context_set:\n",
    "#             center_word = model_1(get_one_hot_vector(pair[0]))\n",
    "#             context_word = model_1(get_one_hot_vector(pair[1]))\n",
    "\n",
    "#             concatenated = torch.cat([center_word, context_word], dim=0)\n",
    "#             concatenated = F.relu(model_2(concatenated))\n",
    "#             to_add.append(concatenated)\n",
    "            \n",
    "#         X_data.append(to_add)"
   ]
  },
  {
   "cell_type": "code",
   "execution_count": null,
   "metadata": {},
   "outputs": [],
   "source": []
  }
 ],
 "metadata": {
  "kernelspec": {
   "display_name": "Python 3",
   "language": "python",
   "name": "python3"
  },
  "language_info": {
   "codemirror_mode": {
    "name": "ipython",
    "version": 3
   },
   "file_extension": ".py",
   "mimetype": "text/x-python",
   "name": "python",
   "nbconvert_exporter": "python",
   "pygments_lexer": "ipython3",
   "version": "3.6.4"
  }
 },
 "nbformat": 4,
 "nbformat_minor": 2
}
