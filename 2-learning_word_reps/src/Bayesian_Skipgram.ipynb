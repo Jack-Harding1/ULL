{
 "cells": [
  {
   "cell_type": "code",
   "execution_count": 1,
   "metadata": {},
   "outputs": [],
   "source": [
    "import datetime\n",
    "import math\n",
    "import os\n",
    "import pickle\n",
    "import random\n",
    "\n",
    "import matplotlib.pyplot as plt\n",
    "import numpy as np\n",
    "\n",
    "import torch\n",
    "import torch.nn as nn\n",
    "import torch.nn.functional as F\n",
    "import torch.optim as optim\n",
    "import torchvision"
   ]
  },
  {
   "cell_type": "code",
   "execution_count": 2,
   "metadata": {},
   "outputs": [],
   "source": [
    "def read_in_data(text_file):\n",
    "\n",
    "    data_output = []\n",
    "    with open(text_file, \"r\") as file1:\n",
    "        data_list = file1.readlines()\n",
    "    for line in data_list:\n",
    "        token_list = line.split()\n",
    "        data_output.append(token_list)\n",
    "    \n",
    "    return data_output"
   ]
  },
  {
   "cell_type": "code",
   "execution_count": 33,
   "metadata": {},
   "outputs": [],
   "source": [
    "training_data = read_in_data(\"../data/english-french_small/dev.en\")\n",
    "\n",
    "training_data = training_data[:5]"
   ]
  },
  {
   "cell_type": "code",
   "execution_count": 34,
   "metadata": {},
   "outputs": [],
   "source": [
    "def create_vocabulary(training_set):\n",
    "\n",
    "    vocabulary = []\n",
    "    for sentence in training_set:\n",
    "        for word in sentence:\n",
    "            if word not in vocabulary:\n",
    "                vocabulary.append(word)\n",
    "                \n",
    "    w2i = dict()\n",
    "    i2w = dict()\n",
    "    for idx, word in enumerate(vocabulary):\n",
    "        i2w[idx] = word\n",
    "        w2i[word] = idx\n",
    "    \n",
    "    return w2i, i2w"
   ]
  },
  {
   "cell_type": "code",
   "execution_count": 35,
   "metadata": {},
   "outputs": [],
   "source": [
    "w2i, i2w = create_vocabulary(training_data)\n",
    "V = len(w2i.keys())"
   ]
  },
  {
   "cell_type": "code",
   "execution_count": 36,
   "metadata": {},
   "outputs": [
    {
     "name": "stdout",
     "output_type": "stream",
     "text": [
      "74\n"
     ]
    }
   ],
   "source": [
    "print(len(w2i.keys()))"
   ]
  },
  {
   "cell_type": "code",
   "execution_count": 37,
   "metadata": {},
   "outputs": [],
   "source": [
    "def generate_skipgram(sentence, context_window_size):\n",
    "\n",
    "    skipgram_array = []\n",
    "    for idx, word in enumerate(sentence):\n",
    "        context_set = []\n",
    "        window_size = context_window_size\n",
    "        for index in range(max(idx - window_size, 0), min(len(sentence), idx + window_size + 1)):\n",
    "            if index != idx:\n",
    "                context_set.append([word, sentence[index]])\n",
    "        skipgram_array.append(context_set)\n",
    "\n",
    "    return skipgram_array"
   ]
  },
  {
   "cell_type": "code",
   "execution_count": 38,
   "metadata": {},
   "outputs": [],
   "source": [
    "WINDOW_SIZE = 2\n",
    "# Training data :\n",
    "context_data = [generate_skipgram(sentence, WINDOW_SIZE) for sentence in training_data]"
   ]
  },
  {
   "cell_type": "code",
   "execution_count": 39,
   "metadata": {},
   "outputs": [
    {
     "name": "stdout",
     "output_type": "stream",
     "text": [
      "28\n",
      "28\n",
      "['each', 'of', 'them', 'is', 'very', 'complex', ',', 'but', 'the', 'link', 'between', 'the', 'two', 'is', 'even', 'more', 'complex', 'which', 'makes', 'the', 'whole', 'situation', 'for', 'most', 'people', 'understandably', 'confusing', '.']\n",
      "======\n",
      "[[['each', 'of'], ['each', 'them']], [['of', 'each'], ['of', 'them'], ['of', 'is']], [['them', 'each'], ['them', 'of'], ['them', 'is'], ['them', 'very']], [['is', 'of'], ['is', 'them'], ['is', 'very'], ['is', 'complex']], [['very', 'them'], ['very', 'is'], ['very', 'complex'], ['very', ',']], [['complex', 'is'], ['complex', 'very'], ['complex', ','], ['complex', 'but']], [[',', 'very'], [',', 'complex'], [',', 'but'], [',', 'the']], [['but', 'complex'], ['but', ','], ['but', 'the'], ['but', 'link']], [['the', ','], ['the', 'but'], ['the', 'link'], ['the', 'between']], [['link', 'but'], ['link', 'the'], ['link', 'between'], ['link', 'the']], [['between', 'the'], ['between', 'link'], ['between', 'the'], ['between', 'two']], [['the', 'link'], ['the', 'between'], ['the', 'two'], ['the', 'is']], [['two', 'between'], ['two', 'the'], ['two', 'is'], ['two', 'even']], [['is', 'the'], ['is', 'two'], ['is', 'even'], ['is', 'more']], [['even', 'two'], ['even', 'is'], ['even', 'more'], ['even', 'complex']], [['more', 'is'], ['more', 'even'], ['more', 'complex'], ['more', 'which']], [['complex', 'even'], ['complex', 'more'], ['complex', 'which'], ['complex', 'makes']], [['which', 'more'], ['which', 'complex'], ['which', 'makes'], ['which', 'the']], [['makes', 'complex'], ['makes', 'which'], ['makes', 'the'], ['makes', 'whole']], [['the', 'which'], ['the', 'makes'], ['the', 'whole'], ['the', 'situation']], [['whole', 'makes'], ['whole', 'the'], ['whole', 'situation'], ['whole', 'for']], [['situation', 'the'], ['situation', 'whole'], ['situation', 'for'], ['situation', 'most']], [['for', 'whole'], ['for', 'situation'], ['for', 'most'], ['for', 'people']], [['most', 'situation'], ['most', 'for'], ['most', 'people'], ['most', 'understandably']], [['people', 'for'], ['people', 'most'], ['people', 'understandably'], ['people', 'confusing']], [['understandably', 'most'], ['understandably', 'people'], ['understandably', 'confusing'], ['understandably', '.']], [['confusing', 'people'], ['confusing', 'understandably'], ['confusing', '.']], [['.', 'understandably'], ['.', 'confusing']]]\n"
     ]
    }
   ],
   "source": [
    "# flat_list = []\n",
    "\n",
    "\n",
    "# for sublist in context_data:\n",
    "#     for item_1 in sublist:\n",
    "#         for item_2\n",
    "#         flat_list.append(item)\n",
    "        \n",
    "    \n",
    "\n",
    "print(len(context_data[0]))\n",
    "print(len(training_data[0]))\n",
    "\n",
    "\n",
    "print(training_data[0])\n",
    "print(\"======\")\n",
    "print(context_data[0])\n"
   ]
  },
  {
   "cell_type": "code",
   "execution_count": 10,
   "metadata": {},
   "outputs": [],
   "source": [
    "def make_input_batches(training_set, batch_size):\n",
    "\n",
    "    sentences = training_set\n",
    "    random.shuffle(sentences)\n",
    "    \n",
    "    new_data = []\n",
    "    num_samples = len(sentences)\n",
    "    for idx in range(num_samples // batch_size):\n",
    "        batch = sentences[(idx)*batch_size : (idx+1)*batch_size]\n",
    "        new_data.append(batch)\n",
    "    \n",
    "    return np.array(new_data)"
   ]
  },
  {
   "cell_type": "code",
   "execution_count": 57,
   "metadata": {},
   "outputs": [],
   "source": [
    "def get_one_hot_vector(word, vocab_size=V):\n",
    "    one_hot = torch.zeros(vocab_size)\n",
    "    one_hot[w2i[word]] = 1.0\n",
    "\n",
    "    return one_hot"
   ]
  },
  {
   "cell_type": "code",
   "execution_count": 11,
   "metadata": {},
   "outputs": [],
   "source": [
    "BATCH_SIZE = 10\n",
    "input_data = make_input_batches(training_data, BATCH_SIZE)"
   ]
  },
  {
   "cell_type": "code",
   "execution_count": 46,
   "metadata": {},
   "outputs": [],
   "source": [
    "class linearity(nn.Module):\n",
    "    def __init__(self, embedding_dimension, vocabulary_size):\n",
    "        super(linearity, self).__init__()\n",
    "        self.fc1 = nn.Linear(vocabulary_size, embedding_dimension)\n",
    "    \n",
    "    def forward(self, x):\n",
    "        return self.fc1(x)"
   ]
  },
  {
   "cell_type": "code",
   "execution_count": 62,
   "metadata": {},
   "outputs": [],
   "source": [
    "class BSG_Net(nn.Module):\n",
    "    def __init__(self, vocabulary_size, embedding_dimension_1=20, embedding_dimension_2=60):\n",
    "        super(BSG_Net, self).__init__()\n",
    "        self.fc1 = nn.Linear(vocabulary_size, embedding_dimension_1)\n",
    "        self.fc2 = nn.Linear(embedding_dimension_1 * 2, embedding_dimension_2)\n",
    "\n",
    "\n",
    "        self.E_D1 = embedding_dimension_1\n",
    "        self.E_D2 = embedding_dimension_2\n",
    "        \n",
    "    def forward(self, x):\n",
    "\n",
    "        context_representation = torch.zeros(self.E_D2)\n",
    "\n",
    "        for pair in x:\n",
    "            center_word = self.fc1(get_one_hot_vector(pair[0]))\n",
    "            context_word = self.fc2(get_one_hot_vector(pair[1]))\n",
    "\n",
    "            concatenated = torch.cat([center_word, context_word], dim=0)\n",
    "            concatenated = F.relu(model_2(concatenated))\n",
    "            context_representation += concatenated\n",
    "        \n",
    "        return context_representation\n"
   ]
  },
  {
   "cell_type": "code",
   "execution_count": 63,
   "metadata": {},
   "outputs": [
    {
     "ename": "RuntimeError",
     "evalue": "size mismatch, m1: [1 x 74], m2: [40 x 60] at /opt/conda/conda-bld/pytorch_1524590031827/work/aten/src/TH/generic/THTensorMath.c:2033",
     "output_type": "error",
     "traceback": [
      "\u001b[0;31m---------------------------------------------------------------------------\u001b[0m",
      "\u001b[0;31mRuntimeError\u001b[0m                              Traceback (most recent call last)",
      "\u001b[0;32m<ipython-input-63-6408e71ecdb2>\u001b[0m in \u001b[0;36m<module>\u001b[0;34m()\u001b[0m\n\u001b[1;32m      7\u001b[0m \u001b[0;32mfor\u001b[0m \u001b[0msentence\u001b[0m \u001b[0;32min\u001b[0m \u001b[0mcontext_data\u001b[0m\u001b[0;34m:\u001b[0m\u001b[0;34m\u001b[0m\u001b[0m\n\u001b[1;32m      8\u001b[0m     \u001b[0;32mfor\u001b[0m \u001b[0mcontext_set\u001b[0m \u001b[0;32min\u001b[0m \u001b[0msentence\u001b[0m\u001b[0;34m:\u001b[0m\u001b[0;34m\u001b[0m\u001b[0m\n\u001b[0;32m----> 9\u001b[0;31m         \u001b[0mprint\u001b[0m\u001b[0;34m(\u001b[0m\u001b[0mmodel\u001b[0m\u001b[0;34m(\u001b[0m\u001b[0mcontext_set\u001b[0m\u001b[0;34m)\u001b[0m\u001b[0;34m)\u001b[0m\u001b[0;34m\u001b[0m\u001b[0m\n\u001b[0m\u001b[1;32m     10\u001b[0m         \u001b[0;32mbreak\u001b[0m\u001b[0;34m\u001b[0m\u001b[0m\n\u001b[1;32m     11\u001b[0m     \u001b[0;32mbreak\u001b[0m\u001b[0;34m\u001b[0m\u001b[0m\n",
      "\u001b[0;32m~/.conda/envs/ml2labs/lib/python3.6/site-packages/torch/nn/modules/module.py\u001b[0m in \u001b[0;36m__call__\u001b[0;34m(self, *input, **kwargs)\u001b[0m\n\u001b[1;32m    489\u001b[0m             \u001b[0mresult\u001b[0m \u001b[0;34m=\u001b[0m \u001b[0mself\u001b[0m\u001b[0;34m.\u001b[0m\u001b[0m_slow_forward\u001b[0m\u001b[0;34m(\u001b[0m\u001b[0;34m*\u001b[0m\u001b[0minput\u001b[0m\u001b[0;34m,\u001b[0m \u001b[0;34m**\u001b[0m\u001b[0mkwargs\u001b[0m\u001b[0;34m)\u001b[0m\u001b[0;34m\u001b[0m\u001b[0m\n\u001b[1;32m    490\u001b[0m         \u001b[0;32melse\u001b[0m\u001b[0;34m:\u001b[0m\u001b[0;34m\u001b[0m\u001b[0m\n\u001b[0;32m--> 491\u001b[0;31m             \u001b[0mresult\u001b[0m \u001b[0;34m=\u001b[0m \u001b[0mself\u001b[0m\u001b[0;34m.\u001b[0m\u001b[0mforward\u001b[0m\u001b[0;34m(\u001b[0m\u001b[0;34m*\u001b[0m\u001b[0minput\u001b[0m\u001b[0;34m,\u001b[0m \u001b[0;34m**\u001b[0m\u001b[0mkwargs\u001b[0m\u001b[0;34m)\u001b[0m\u001b[0;34m\u001b[0m\u001b[0m\n\u001b[0m\u001b[1;32m    492\u001b[0m         \u001b[0;32mfor\u001b[0m \u001b[0mhook\u001b[0m \u001b[0;32min\u001b[0m \u001b[0mself\u001b[0m\u001b[0;34m.\u001b[0m\u001b[0m_forward_hooks\u001b[0m\u001b[0;34m.\u001b[0m\u001b[0mvalues\u001b[0m\u001b[0;34m(\u001b[0m\u001b[0;34m)\u001b[0m\u001b[0;34m:\u001b[0m\u001b[0;34m\u001b[0m\u001b[0m\n\u001b[1;32m    493\u001b[0m             \u001b[0mhook_result\u001b[0m \u001b[0;34m=\u001b[0m \u001b[0mhook\u001b[0m\u001b[0;34m(\u001b[0m\u001b[0mself\u001b[0m\u001b[0;34m,\u001b[0m \u001b[0minput\u001b[0m\u001b[0;34m,\u001b[0m \u001b[0mresult\u001b[0m\u001b[0;34m)\u001b[0m\u001b[0;34m\u001b[0m\u001b[0m\n",
      "\u001b[0;32m<ipython-input-62-901853071244>\u001b[0m in \u001b[0;36mforward\u001b[0;34m(self, x)\u001b[0m\n\u001b[1;32m     15\u001b[0m         \u001b[0;32mfor\u001b[0m \u001b[0mpair\u001b[0m \u001b[0;32min\u001b[0m \u001b[0mx\u001b[0m\u001b[0;34m:\u001b[0m\u001b[0;34m\u001b[0m\u001b[0m\n\u001b[1;32m     16\u001b[0m             \u001b[0mcenter_word\u001b[0m \u001b[0;34m=\u001b[0m \u001b[0mself\u001b[0m\u001b[0;34m.\u001b[0m\u001b[0mfc1\u001b[0m\u001b[0;34m(\u001b[0m\u001b[0mget_one_hot_vector\u001b[0m\u001b[0;34m(\u001b[0m\u001b[0mpair\u001b[0m\u001b[0;34m[\u001b[0m\u001b[0;36m0\u001b[0m\u001b[0;34m]\u001b[0m\u001b[0;34m)\u001b[0m\u001b[0;34m)\u001b[0m\u001b[0;34m\u001b[0m\u001b[0m\n\u001b[0;32m---> 17\u001b[0;31m             \u001b[0mcontext_word\u001b[0m \u001b[0;34m=\u001b[0m \u001b[0mself\u001b[0m\u001b[0;34m.\u001b[0m\u001b[0mfc2\u001b[0m\u001b[0;34m(\u001b[0m\u001b[0mget_one_hot_vector\u001b[0m\u001b[0;34m(\u001b[0m\u001b[0mpair\u001b[0m\u001b[0;34m[\u001b[0m\u001b[0;36m1\u001b[0m\u001b[0;34m]\u001b[0m\u001b[0;34m)\u001b[0m\u001b[0;34m)\u001b[0m\u001b[0;34m\u001b[0m\u001b[0m\n\u001b[0m\u001b[1;32m     18\u001b[0m \u001b[0;34m\u001b[0m\u001b[0m\n\u001b[1;32m     19\u001b[0m             \u001b[0mconcatenated\u001b[0m \u001b[0;34m=\u001b[0m \u001b[0mtorch\u001b[0m\u001b[0;34m.\u001b[0m\u001b[0mcat\u001b[0m\u001b[0;34m(\u001b[0m\u001b[0;34m[\u001b[0m\u001b[0mcenter_word\u001b[0m\u001b[0;34m,\u001b[0m \u001b[0mcontext_word\u001b[0m\u001b[0;34m]\u001b[0m\u001b[0;34m,\u001b[0m \u001b[0mdim\u001b[0m\u001b[0;34m=\u001b[0m\u001b[0;36m0\u001b[0m\u001b[0;34m)\u001b[0m\u001b[0;34m\u001b[0m\u001b[0m\n",
      "\u001b[0;32m~/.conda/envs/ml2labs/lib/python3.6/site-packages/torch/nn/modules/module.py\u001b[0m in \u001b[0;36m__call__\u001b[0;34m(self, *input, **kwargs)\u001b[0m\n\u001b[1;32m    489\u001b[0m             \u001b[0mresult\u001b[0m \u001b[0;34m=\u001b[0m \u001b[0mself\u001b[0m\u001b[0;34m.\u001b[0m\u001b[0m_slow_forward\u001b[0m\u001b[0;34m(\u001b[0m\u001b[0;34m*\u001b[0m\u001b[0minput\u001b[0m\u001b[0;34m,\u001b[0m \u001b[0;34m**\u001b[0m\u001b[0mkwargs\u001b[0m\u001b[0;34m)\u001b[0m\u001b[0;34m\u001b[0m\u001b[0m\n\u001b[1;32m    490\u001b[0m         \u001b[0;32melse\u001b[0m\u001b[0;34m:\u001b[0m\u001b[0;34m\u001b[0m\u001b[0m\n\u001b[0;32m--> 491\u001b[0;31m             \u001b[0mresult\u001b[0m \u001b[0;34m=\u001b[0m \u001b[0mself\u001b[0m\u001b[0;34m.\u001b[0m\u001b[0mforward\u001b[0m\u001b[0;34m(\u001b[0m\u001b[0;34m*\u001b[0m\u001b[0minput\u001b[0m\u001b[0;34m,\u001b[0m \u001b[0;34m**\u001b[0m\u001b[0mkwargs\u001b[0m\u001b[0;34m)\u001b[0m\u001b[0;34m\u001b[0m\u001b[0m\n\u001b[0m\u001b[1;32m    492\u001b[0m         \u001b[0;32mfor\u001b[0m \u001b[0mhook\u001b[0m \u001b[0;32min\u001b[0m \u001b[0mself\u001b[0m\u001b[0;34m.\u001b[0m\u001b[0m_forward_hooks\u001b[0m\u001b[0;34m.\u001b[0m\u001b[0mvalues\u001b[0m\u001b[0;34m(\u001b[0m\u001b[0;34m)\u001b[0m\u001b[0;34m:\u001b[0m\u001b[0;34m\u001b[0m\u001b[0m\n\u001b[1;32m    493\u001b[0m             \u001b[0mhook_result\u001b[0m \u001b[0;34m=\u001b[0m \u001b[0mhook\u001b[0m\u001b[0;34m(\u001b[0m\u001b[0mself\u001b[0m\u001b[0;34m,\u001b[0m \u001b[0minput\u001b[0m\u001b[0;34m,\u001b[0m \u001b[0mresult\u001b[0m\u001b[0;34m)\u001b[0m\u001b[0;34m\u001b[0m\u001b[0m\n",
      "\u001b[0;32m~/.conda/envs/ml2labs/lib/python3.6/site-packages/torch/nn/modules/linear.py\u001b[0m in \u001b[0;36mforward\u001b[0;34m(self, input)\u001b[0m\n\u001b[1;32m     53\u001b[0m \u001b[0;34m\u001b[0m\u001b[0m\n\u001b[1;32m     54\u001b[0m     \u001b[0;32mdef\u001b[0m \u001b[0mforward\u001b[0m\u001b[0;34m(\u001b[0m\u001b[0mself\u001b[0m\u001b[0;34m,\u001b[0m \u001b[0minput\u001b[0m\u001b[0;34m)\u001b[0m\u001b[0;34m:\u001b[0m\u001b[0;34m\u001b[0m\u001b[0m\n\u001b[0;32m---> 55\u001b[0;31m         \u001b[0;32mreturn\u001b[0m \u001b[0mF\u001b[0m\u001b[0;34m.\u001b[0m\u001b[0mlinear\u001b[0m\u001b[0;34m(\u001b[0m\u001b[0minput\u001b[0m\u001b[0;34m,\u001b[0m \u001b[0mself\u001b[0m\u001b[0;34m.\u001b[0m\u001b[0mweight\u001b[0m\u001b[0;34m,\u001b[0m \u001b[0mself\u001b[0m\u001b[0;34m.\u001b[0m\u001b[0mbias\u001b[0m\u001b[0;34m)\u001b[0m\u001b[0;34m\u001b[0m\u001b[0m\n\u001b[0m\u001b[1;32m     56\u001b[0m \u001b[0;34m\u001b[0m\u001b[0m\n\u001b[1;32m     57\u001b[0m     \u001b[0;32mdef\u001b[0m \u001b[0mextra_repr\u001b[0m\u001b[0;34m(\u001b[0m\u001b[0mself\u001b[0m\u001b[0;34m)\u001b[0m\u001b[0;34m:\u001b[0m\u001b[0;34m\u001b[0m\u001b[0m\n",
      "\u001b[0;32m~/.conda/envs/ml2labs/lib/python3.6/site-packages/torch/nn/functional.py\u001b[0m in \u001b[0;36mlinear\u001b[0;34m(input, weight, bias)\u001b[0m\n\u001b[1;32m    992\u001b[0m         \u001b[0;32mreturn\u001b[0m \u001b[0mtorch\u001b[0m\u001b[0;34m.\u001b[0m\u001b[0maddmm\u001b[0m\u001b[0;34m(\u001b[0m\u001b[0mbias\u001b[0m\u001b[0;34m,\u001b[0m \u001b[0minput\u001b[0m\u001b[0;34m,\u001b[0m \u001b[0mweight\u001b[0m\u001b[0;34m.\u001b[0m\u001b[0mt\u001b[0m\u001b[0;34m(\u001b[0m\u001b[0;34m)\u001b[0m\u001b[0;34m)\u001b[0m\u001b[0;34m\u001b[0m\u001b[0m\n\u001b[1;32m    993\u001b[0m \u001b[0;34m\u001b[0m\u001b[0m\n\u001b[0;32m--> 994\u001b[0;31m     \u001b[0moutput\u001b[0m \u001b[0;34m=\u001b[0m \u001b[0minput\u001b[0m\u001b[0;34m.\u001b[0m\u001b[0mmatmul\u001b[0m\u001b[0;34m(\u001b[0m\u001b[0mweight\u001b[0m\u001b[0;34m.\u001b[0m\u001b[0mt\u001b[0m\u001b[0;34m(\u001b[0m\u001b[0;34m)\u001b[0m\u001b[0;34m)\u001b[0m\u001b[0;34m\u001b[0m\u001b[0m\n\u001b[0m\u001b[1;32m    995\u001b[0m     \u001b[0;32mif\u001b[0m \u001b[0mbias\u001b[0m \u001b[0;32mis\u001b[0m \u001b[0;32mnot\u001b[0m \u001b[0;32mNone\u001b[0m\u001b[0;34m:\u001b[0m\u001b[0;34m\u001b[0m\u001b[0m\n\u001b[1;32m    996\u001b[0m         \u001b[0moutput\u001b[0m \u001b[0;34m+=\u001b[0m \u001b[0mbias\u001b[0m\u001b[0;34m\u001b[0m\u001b[0m\n",
      "\u001b[0;31mRuntimeError\u001b[0m: size mismatch, m1: [1 x 74], m2: [40 x 60] at /opt/conda/conda-bld/pytorch_1524590031827/work/aten/src/TH/generic/THTensorMath.c:2033"
     ]
    }
   ],
   "source": [
    "EMBEDDING_DIMENSION = 20\n",
    "EMBEDDING_DIMENSION_2 = 60\n",
    "\n",
    "model = BSG_Net(V, EMBEDDING_DIMENSION, EMBEDDING_DIMENSION_2)\n",
    "X_data = []\n",
    "\n",
    "for sentence in context_data:\n",
    "    for context_set in sentence:\n",
    "        print(model(context_set))\n",
    "        break\n",
    "    break\n",
    "    \n",
    "    \n",
    "    \n",
    "#     for context_set in sentence:\n",
    "#         to_add = []\n",
    "#         for pair in context_set:\n",
    "#             center_word = model_1(get_one_hot_vector(pair[0]))\n",
    "#             context_word = model_1(get_one_hot_vector(pair[1]))\n",
    "\n",
    "#             concatenated = torch.cat([center_word, context_word], dim=0)\n",
    "#             concatenated = F.relu(model_2(concatenated))\n",
    "#             to_add.append(concatenated)\n",
    "            \n",
    "#         X_data.append(to_add)"
   ]
  },
  {
   "cell_type": "code",
   "execution_count": 56,
   "metadata": {},
   "outputs": [
    {
     "data": {
      "text/plain": [
       "[tensor([ 0.0680,  0.0000,  0.0074,  0.0000,  0.0726,  0.0000,  0.0000,\n",
       "          0.0000,  0.0000,  0.0000,  0.0000,  0.0000,  0.0000,  0.0328,\n",
       "          0.0481,  0.0000,  0.0000,  0.0000,  0.0000,  0.0000,  0.0000,\n",
       "          0.0000,  0.0672,  0.1533,  0.1062,  0.0000,  0.0000,  0.0333,\n",
       "          0.0000,  0.0000,  0.0000,  0.1562,  0.1944,  0.0000,  0.0000,\n",
       "          0.1469,  0.0000,  0.0000,  0.0000,  0.0485,  0.0000,  0.1950,\n",
       "          0.0022,  0.0000,  0.0000,  0.0000,  0.0531,  0.0259,  0.0000,\n",
       "          0.0000,  0.1091,  0.0000,  0.0505,  0.0000,  0.0000,  0.0000,\n",
       "          0.0000,  0.0000,  0.0000,  0.1352]),\n",
       " tensor([ 0.0766,  0.0000,  0.0428,  0.0000,  0.0813,  0.0158,  0.0000,\n",
       "          0.0816,  0.0000,  0.0000,  0.0047,  0.0025,  0.0000,  0.0000,\n",
       "          0.0110,  0.0000,  0.0000,  0.0000,  0.0000,  0.0000,  0.0000,\n",
       "          0.0000,  0.0975,  0.1702,  0.1671,  0.0000,  0.0000,  0.0423,\n",
       "          0.0605,  0.0000,  0.0000,  0.1550,  0.1246,  0.0067,  0.0000,\n",
       "          0.1545,  0.0000,  0.0457,  0.0000,  0.0507,  0.0000,  0.1796,\n",
       "          0.0000,  0.0000,  0.0000,  0.0000,  0.0358,  0.0043,  0.0000,\n",
       "          0.0000,  0.0674,  0.0047,  0.1254,  0.0000,  0.0000,  0.0000,\n",
       "          0.0000,  0.0000,  0.0000,  0.1492])]"
      ]
     },
     "execution_count": 56,
     "metadata": {},
     "output_type": "execute_result"
    }
   ],
   "source": [
    "X_data[0]"
   ]
  }
 ],
 "metadata": {
  "kernelspec": {
   "display_name": "Python 3",
   "language": "python",
   "name": "python3"
  },
  "language_info": {
   "codemirror_mode": {
    "name": "ipython",
    "version": 3
   },
   "file_extension": ".py",
   "mimetype": "text/x-python",
   "name": "python",
   "nbconvert_exporter": "python",
   "pygments_lexer": "ipython3",
   "version": "3.6.4"
  }
 },
 "nbformat": 4,
 "nbformat_minor": 2
}
